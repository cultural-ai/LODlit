{
 "cells": [
  {
   "cell_type": "code",
   "execution_count": null,
   "id": "4fd6acc7-81d8-4e8d-88aa-dfdd769b327b",
   "metadata": {},
   "outputs": [],
   "source": [
    "# !pip install LODlit"
   ]
  },
  {
   "cell_type": "code",
   "execution_count": 3,
   "id": "046a2e5b-79b5-4d1b-bec5-f3f53827fffa",
   "metadata": {},
   "outputs": [],
   "source": [
    "import LODlit\n",
    "from LODlit import wd"
   ]
  },
  {
   "cell_type": "code",
   "execution_count": 5,
   "id": "a4d00cfb-3325-4cb8-acce-f7d7b27b896a",
   "metadata": {},
   "outputs": [],
   "source": [
    "query_term = \"slave\" # support phrases\n",
    "lang = \"en\" # language codes accorging to Wikidata\n",
    "user_agent = \"Bot searching for entities and getting their labels, aliases, and descriptions (nesterov@cwi.nl)\"\n",
    "# optional: keywords to exclude from search results\n",
    "keywords_en = ['scientific','scholarly','article']\n",
    "# optional: exclude entities with certain statements\n",
    "statements = [('P31','Q13442814'),('P279','Q7187')]\n",
    "# optional: search for wordforms; default is False\n",
    "stemming = False"
   ]
  },
  {
   "cell_type": "markdown",
   "id": "8d297f60-1ba4-414c-ab1f-46f22ca33319",
   "metadata": {},
   "source": [
    "### Getting Qids, their labels, aliases, descriptions by a query term"
   ]
  },
  {
   "cell_type": "code",
   "execution_count": 7,
   "id": "792ed2fe-b310-42fc-ae4d-f7359dcc0d26",
   "metadata": {},
   "outputs": [],
   "source": [
    "search_results = wd.get_lit_by_term(query_term,lang,user_agent,keywords_en,statements)"
   ]
  },
  {
   "cell_type": "code",
   "execution_count": 10,
   "id": "f918bdb8-df85-4ec8-9542-86ec90bf5b28",
   "metadata": {},
   "outputs": [
    {
     "data": {
      "text/plain": [
       "3759"
      ]
     },
     "execution_count": 10,
     "metadata": {},
     "output_type": "execute_result"
    }
   ],
   "source": [
    "len(search_results[\"slave\"])"
   ]
  },
  {
   "cell_type": "code",
   "execution_count": 13,
   "id": "fe2dc183-963d-4db9-b5de-a3d4acb80bd2",
   "metadata": {},
   "outputs": [
    {
     "name": "stdout",
     "output_type": "stream",
     "text": [
      "97945363 {'pageid': 97945363, 'ns': 0, 'title': 'Q100286544', 'index': 419, 'entityterms': {'alias': ['James Milliken I of Milliken', 'James Milliken senior'], 'label': ['James Milliken'], 'description': ['sugar house owner in Glasgow, slave holder in St Kitts (1669–1741)']}}\n"
     ]
    }
   ],
   "source": [
    "for result_id, hits in search_results[\"slave\"].items():\n",
    "    print(result_id,hits)\n",
    "    break"
   ]
  },
  {
   "cell_type": "code",
   "execution_count": null,
   "id": "1a03db73-9951-4ef2-ba41-2f681b43d80a",
   "metadata": {},
   "outputs": [],
   "source": []
  }
 ],
 "metadata": {
  "kernelspec": {
   "display_name": "lodlit_test",
   "language": "python",
   "name": "lodlit_test"
  },
  "language_info": {
   "codemirror_mode": {
    "name": "ipython",
    "version": 3
   },
   "file_extension": ".py",
   "mimetype": "text/x-python",
   "name": "python",
   "nbconvert_exporter": "python",
   "pygments_lexer": "ipython3",
   "version": "3.8.5"
  }
 },
 "nbformat": 4,
 "nbformat_minor": 5
}
